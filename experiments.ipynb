{
 "cells": [
  {
   "cell_type": "code",
   "id": "initial_id",
   "metadata": {
    "collapsed": true
   },
   "source": [
    "import pandas as pd\n",
    "import requests\n",
    "import json\n",
    "import io\n",
    "from dotenv import dotenv_values, load_dotenv\n",
    "\n",
    "# Load credentials from .env file\n",
    "load_dotenv()  \n",
    "USERNAME, PASSWORD = dotenv_values().values()\n",
    "\n",
    "# Set base path for API calls\n",
    "BASE_URL = 'https://www-genesis.destatis.de/genesisWS/rest/2020/'"
   ],
   "outputs": [],
   "execution_count": null
  },
  {
   "metadata": {},
   "cell_type": "code",
   "source": [
    "whoami = requests.get(BASE_URL + 'helloworld/whoami', params={\n",
    "    'username': USERNAME,\n",
    "#    'password': PASSWORD,\n",
    "    'language': 'en'\n",
    "})\n",
    "whoami.text"
   ],
   "id": "201fe146e38cc922",
   "outputs": [],
   "execution_count": null
  },
  {
   "metadata": {},
   "cell_type": "code",
   "source": [
    "hello = requests.get(BASE_URL + 'helloworld/logincheck', params={\n",
    "    'username': USERNAME,\n",
    "    'password': PASSWORD,\n",
    "    'language': 'en'\n",
    "})\n",
    "json.dumps(hello.json(), indent=2)\n"
   ],
   "id": "cfbee3bd33ef7780",
   "outputs": [],
   "execution_count": null
  },
  {
   "metadata": {},
   "cell_type": "code",
   "source": [
    "search = requests.get(BASE_URL + 'find/find', params={\n",
    "    'username': USERNAME,\n",
    "    'password': PASSWORD,\n",
    "    'language': 'de',\n",
    "    'term': 'Inflation'\n",
    "})\n",
    "search_results = json.loads(search.text)\n",
    "search_results['Status']"
   ],
   "id": "9035aa1e74a3caeb",
   "outputs": [],
   "execution_count": null
  },
  {
   "metadata": {},
   "cell_type": "code",
   "source": "pd.DataFrame.from_dict(search_results['Statistics'])\n",
   "id": "700300cf315d6335",
   "outputs": [],
   "execution_count": null
  },
  {
   "metadata": {},
   "cell_type": "code",
   "source": "pd.DataFrame.from_dict(search_results['Tables'])\n",
   "id": "b2fb5c2d18b4acf8",
   "outputs": [],
   "execution_count": null
  },
  {
   "metadata": {},
   "cell_type": "code",
   "source": [
    "response = requests.get(BASE_URL + 'data/tablefile', params={\n",
    "    'username': USERNAME,\n",
    "    'password': PASSWORD,\n",
    "    'name': '61111-0002',\n",
    "    'area': 'all',\n",
    "    'compress': 'true',\n",
    "    'format': 'ffcsv',\n",
    "    'language': 'de'\n",
    "})"
   ],
   "id": "bbd5674d98c9bdbb",
   "outputs": [],
   "execution_count": null
  },
  {
   "metadata": {},
   "cell_type": "code",
   "source": [
    "import zipfile\n",
    "zf = zipfile.ZipFile(io.BytesIO(response.content))\n",
    "file = zf.open(zf.filelist[0].filename)\n",
    "\n",
    "tabelle61111_0002neu = pd.read_csv(file, sep=\";\",\n",
    "                                   decimal=\",\", na_values=[\"-\", \"x\", \".\", \"/\"]) \\\n",
    "    .sort_values(by=[\"time\",\"value_variable_label\"])\n"
   ],
   "id": "6ea2301f2af4f5e3",
   "outputs": [],
   "execution_count": null
  },
  {
   "metadata": {},
   "cell_type": "code",
   "source": "last_row = tabelle61111_0002neu.loc[tabelle61111_0002neu['value_variable_label'] == \"Verbraucherpreisindex\"].sort_values(by=[\"time\",\"1_variable_attribute_code\"]).tail(1)",
   "id": "fc420f7a3a216d50",
   "outputs": [],
   "execution_count": null
  },
  {
   "metadata": {},
   "cell_type": "code",
   "source": [
    "year = last_row['time'].values[0]\n",
    "month = last_row['1_variable_attribute_label'].values[0]\n",
    "value = last_row['value'].values[0]\n",
    "last_row\n"
   ],
   "id": "61cf18b2ac679c21",
   "outputs": [],
   "execution_count": null
  },
  {
   "metadata": {},
   "cell_type": "code",
   "source": "print(year, month, value)",
   "id": "f43e838ace4ec630",
   "outputs": [],
   "execution_count": null
  }
 ],
 "metadata": {
  "kernelspec": {
   "display_name": "Python 3",
   "language": "python",
   "name": "python3"
  },
  "language_info": {
   "codemirror_mode": {
    "name": "ipython",
    "version": 2
   },
   "file_extension": ".py",
   "mimetype": "text/x-python",
   "name": "python",
   "nbconvert_exporter": "python",
   "pygments_lexer": "ipython2",
   "version": "2.7.6"
  }
 },
 "nbformat": 4,
 "nbformat_minor": 5
}
